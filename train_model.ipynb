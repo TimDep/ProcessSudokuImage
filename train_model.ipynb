{
 "cells": [
  {
   "cell_type": "code",
   "execution_count": 124,
   "id": "initial_id",
   "metadata": {
    "collapsed": true,
    "ExecuteTime": {
     "end_time": "2024-08-21T15:01:52.271798500Z",
     "start_time": "2024-08-21T15:01:52.227401200Z"
    }
   },
   "outputs": [],
   "source": [
    "import os\n",
    "import cv2\n",
    "import numpy as np\n",
    "from sklearn.model_selection import train_test_split\n",
    "from tensorflow.keras.preprocessing.image import ImageDataGenerator\n",
    "from keras.src.utils import to_categorical\n",
    "from tensorflow.keras.models import Sequential\n",
    "from tensorflow.keras.layers import Activation, Dropout, Dense, Flatten, BatchNormalization, Conv2D, MaxPooling2D\n",
    "from tensorflow.keras.optimizers import RMSprop"
   ]
  },
  {
   "cell_type": "code",
   "outputs": [],
   "source": [
    "data = os.listdir(r\"D:\\Github\\ProcessSudokuImage\\Digits\" )\n",
    "data_X = []     \n",
    "data_y = []  \n",
    "data_classes = len(data)\n",
    "for i in range (1,data_classes):\n",
    "    data_list = os.listdir(r\"Digits\" +\"/\"+str(i))\n",
    "    for j in data_list:\n",
    "        pic = cv2.imread(r\"Digits\" +\"/\"+str(i)+\"/\"+j)\n",
    "        pic = cv2.resize(pic,(32,32))\n",
    "        data_X.append(pic)\n",
    "        data_y.append(i)\n",
    "\n",
    "         \n",
    "if len(data_X) == len(data_y) :\n",
    "    print(\"Total Datapoints = \",len(data_X))\n",
    "\n",
    "data_X = np.array(data_X)\n",
    "data_y = np.array(data_y)"
   ],
   "metadata": {
    "collapsed": false,
    "ExecuteTime": {
     "end_time": "2024-08-21T15:01:52.738743800Z",
     "start_time": "2024-08-21T15:01:52.246195400Z"
    }
   },
   "id": "6d17b5e13cf9d6a1",
   "execution_count": 125
  },
  {
   "cell_type": "code",
   "outputs": [],
   "source": [
    "train_X, test_X, train_y, test_y = train_test_split(data_X,data_y,test_size=0.05)\n",
    "train_X, valid_X, train_y, valid_y = train_test_split(train_X,train_y,test_size=0.2)\n",
    "print(\"Training Set Shape = \",train_X.shape)\n",
    "print(\"Validation Set Shape = \",valid_X.shape)\n",
    "print(\"Test Set Shape = \",test_X.shape)"
   ],
   "metadata": {
    "collapsed": false,
    "ExecuteTime": {
     "end_time": "2024-08-21T15:01:52.753755400Z",
     "start_time": "2024-08-21T15:01:52.739746100Z"
    }
   },
   "id": "d44696a3a7c2a86d",
   "execution_count": 126
  },
  {
   "cell_type": "code",
   "outputs": [],
   "source": [
    "def Prep(img):\n",
    "    img = cv2.cvtColor(img,cv2.COLOR_BGR2GRAY) #making image grayscale\n",
    "    img = cv2.equalizeHist(img) #Histogram equalization to enhance contrast\n",
    "    img = img/255 #normalizing\n",
    "    return img\n",
    "\n",
    "train_X = np.array(list(map(Prep, train_X)))\n",
    "test_X = np.array(list(map(Prep, test_X)))\n",
    "valid_X= np.array(list(map(Prep, valid_X)))\n",
    "\n",
    "#Reshaping the images\n",
    "train_X = train_X.reshape(train_X.shape[0], train_X.shape[1], train_X.shape[2],1)\n",
    "test_X = test_X.reshape(test_X.shape[0], test_X.shape[1], test_X.shape[2],1)\n",
    "valid_X = valid_X.reshape(valid_X.shape[0], valid_X.shape[1], valid_X.shape[2],1)\n",
    "\n",
    "#Augmentation\n",
    "datagen = ImageDataGenerator(width_shift_range=0.1, height_shift_range=0.1, zoom_range=0.2, shear_range=0.1, rotation_range=10)\n",
    "datagen.fit(train_X)"
   ],
   "metadata": {
    "collapsed": false,
    "ExecuteTime": {
     "end_time": "2024-08-21T15:01:52.772068600Z",
     "start_time": "2024-08-21T15:01:52.755754800Z"
    }
   },
   "id": "e1bd08ed160053bb",
   "execution_count": 127
  },
  {
   "cell_type": "code",
   "outputs": [],
   "source": [
    "train_y = to_categorical(train_y, data_classes)\n",
    "test_y = to_categorical(test_y, data_classes)\n",
    "valid_y = to_categorical(valid_y, data_classes)"
   ],
   "metadata": {
    "collapsed": false,
    "ExecuteTime": {
     "end_time": "2024-08-21T15:01:52.786978500Z",
     "start_time": "2024-08-21T15:01:52.770069300Z"
    }
   },
   "id": "acb3fc2c587e75ab",
   "execution_count": 128
  },
  {
   "cell_type": "code",
   "outputs": [],
   "source": [
    "model = Sequential()\n",
    "\n",
    "model.add((Conv2D(60,(5,5),input_shape=(32, 32, 1) ,padding = 'Same' ,activation='relu')))\n",
    "model.add((Conv2D(60, (5,5),padding=\"same\",activation='relu')))\n",
    "model.add(MaxPooling2D(pool_size=(2,2)))\n",
    "\n",
    "model.add((Conv2D(30, (3,3),padding=\"same\", activation='relu')))\n",
    "model.add((Conv2D(30, (3,3), padding=\"same\", activation='relu')))\n",
    "model.add(MaxPooling2D(pool_size=(2,2), strides=(2,2)))\n",
    "model.add(Dropout(0.5))\n",
    "\n",
    "model.add(Flatten())\n",
    "model.add(Dense(500,activation='relu'))\n",
    "model.add(Dropout(0.5))\n",
    "model.add(Dense(9, activation='softmax'))\n",
    "\n",
    "model.summary()"
   ],
   "metadata": {
    "collapsed": false,
    "ExecuteTime": {
     "end_time": "2024-08-21T15:01:52.863721600Z",
     "start_time": "2024-08-21T15:01:52.785985Z"
    }
   },
   "id": "9c7f029cc8f7c271",
   "execution_count": 129
  },
  {
   "cell_type": "code",
   "outputs": [
    {
     "name": "stdout",
     "output_type": "stream",
     "text": [
      "Epoch 1/10\n",
      "\u001B[1m300/300\u001B[0m \u001B[32m━━━━━━━━━━━━━━━━━━━━\u001B[0m\u001B[37m\u001B[0m \u001B[1m9s\u001B[0m 27ms/step - accuracy: 0.8545 - loss: 0.4851 - val_accuracy: 0.9827 - val_loss: 0.0565\n",
      "Epoch 2/10\n",
      "\u001B[1m300/300\u001B[0m \u001B[32m━━━━━━━━━━━━━━━━━━━━\u001B[0m\u001B[37m\u001B[0m \u001B[1m8s\u001B[0m 27ms/step - accuracy: 0.9817 - loss: 0.0566 - val_accuracy: 0.9845 - val_loss: 0.0488\n",
      "Epoch 3/10\n",
      "\u001B[1m300/300\u001B[0m \u001B[32m━━━━━━━━━━━━━━━━━━━━\u001B[0m\u001B[37m\u001B[0m \u001B[1m8s\u001B[0m 27ms/step - accuracy: 0.9890 - loss: 0.0357 - val_accuracy: 0.9876 - val_loss: 0.0388\n",
      "Epoch 4/10\n",
      "\u001B[1m300/300\u001B[0m \u001B[32m━━━━━━━━━━━━━━━━━━━━\u001B[0m\u001B[37m\u001B[0m \u001B[1m8s\u001B[0m 28ms/step - accuracy: 0.9925 - loss: 0.0240 - val_accuracy: 0.9887 - val_loss: 0.0350\n",
      "Epoch 5/10\n",
      "\u001B[1m300/300\u001B[0m \u001B[32m━━━━━━━━━━━━━━━━━━━━\u001B[0m\u001B[37m\u001B[0m \u001B[1m8s\u001B[0m 28ms/step - accuracy: 0.9934 - loss: 0.0192 - val_accuracy: 0.9894 - val_loss: 0.0325\n",
      "Epoch 6/10\n",
      "\u001B[1m300/300\u001B[0m \u001B[32m━━━━━━━━━━━━━━━━━━━━\u001B[0m\u001B[37m\u001B[0m \u001B[1m9s\u001B[0m 28ms/step - accuracy: 0.9953 - loss: 0.0144 - val_accuracy: 0.9911 - val_loss: 0.0277\n",
      "Epoch 7/10\n",
      "\u001B[1m300/300\u001B[0m \u001B[32m━━━━━━━━━━━━━━━━━━━━\u001B[0m\u001B[37m\u001B[0m \u001B[1m8s\u001B[0m 28ms/step - accuracy: 0.9963 - loss: 0.0116 - val_accuracy: 0.9911 - val_loss: 0.0303\n",
      "Epoch 8/10\n",
      "\u001B[1m300/300\u001B[0m \u001B[32m━━━━━━━━━━━━━━━━━━━━\u001B[0m\u001B[37m\u001B[0m \u001B[1m9s\u001B[0m 30ms/step - accuracy: 0.9964 - loss: 0.0106 - val_accuracy: 0.9887 - val_loss: 0.0368\n",
      "Epoch 9/10\n",
      "\u001B[1m300/300\u001B[0m \u001B[32m━━━━━━━━━━━━━━━━━━━━\u001B[0m\u001B[37m\u001B[0m \u001B[1m11s\u001B[0m 36ms/step - accuracy: 0.9973 - loss: 0.0082 - val_accuracy: 0.9921 - val_loss: 0.0295\n",
      "Epoch 10/10\n",
      "\u001B[1m300/300\u001B[0m \u001B[32m━━━━━━━━━━━━━━━━━━━━\u001B[0m\u001B[37m\u001B[0m \u001B[1m9s\u001B[0m 31ms/step - accuracy: 0.9979 - loss: 0.0062 - val_accuracy: 0.9911 - val_loss: 0.0341\n"
     ]
    }
   ],
   "source": [
    "optimizer = RMSprop(epsilon = 1e-08, decay=0.0)\n",
    "model.compile(optimizer=optimizer,loss='categorical_crossentropy',metrics=['accuracy'])\n",
    "\n",
    "history = model.fit(datagen.flow(train_X, train_y, batch_size=32),\n",
    "                              epochs = 30, validation_data = (valid_X, valid_y),\n",
    "                              verbose = 2, steps_per_epoch= 200)"
   ],
   "metadata": {
    "collapsed": false,
    "ExecuteTime": {
     "end_time": "2024-08-21T15:03:21.426515300Z",
     "start_time": "2024-08-21T15:01:52.863721600Z"
    }
   },
   "id": "b94c190495f9e74b",
   "execution_count": 130
  },
  {
   "cell_type": "code",
   "outputs": [],
   "source": [
    "# Testing the model on the test set\n",
    "\n",
    "score = model.evaluate(test_X, test_y, verbose=0)\n",
    "print('Test Score = ',score[0])\n",
    "print('Test Accuracy =', score[1])"
   ],
   "metadata": {
    "collapsed": false,
    "ExecuteTime": {
     "end_time": "2024-08-21T15:03:21.445363400Z",
     "start_time": "2024-08-21T15:03:21.427318700Z"
    }
   },
   "id": "c150176093e2f87c",
   "execution_count": 131
  },
  {
   "cell_type": "code",
   "outputs": [],
   "source": [
    "model.save('digits_model.keras')"
   ],
   "metadata": {
    "collapsed": false,
    "ExecuteTime": {
     "end_time": "2024-08-21T15:03:21.468448600Z",
     "start_time": "2024-08-21T15:03:21.445363400Z"
    }
   },
   "id": "4d700d4847d97ca4",
   "execution_count": 132
  },
  {
   "cell_type": "code",
   "outputs": [],
   "source": [],
   "metadata": {
    "collapsed": false,
    "ExecuteTime": {
     "end_time": "2024-08-21T15:03:21.486452300Z",
     "start_time": "2024-08-21T15:03:21.460374100Z"
    }
   },
   "id": "7dd6088a18bf26c1",
   "execution_count": 132
  }
 ],
 "metadata": {
  "kernelspec": {
   "display_name": "Python 3",
   "language": "python",
   "name": "python3"
  },
  "language_info": {
   "codemirror_mode": {
    "name": "ipython",
    "version": 2
   },
   "file_extension": ".py",
   "mimetype": "text/x-python",
   "name": "python",
   "nbconvert_exporter": "python",
   "pygments_lexer": "ipython2",
   "version": "2.7.6"
  }
 },
 "nbformat": 4,
 "nbformat_minor": 5
}
